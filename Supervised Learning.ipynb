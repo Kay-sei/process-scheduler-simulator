{
 "cells": [
  {
   "cell_type": "code",
   "execution_count": null,
   "id": "502988bb-5301-4532-861a-78ea71473351",
   "metadata": {},
   "outputs": [],
   "source": [
    "import numpy as np\n",
    "import matplotlib.pyplot as plt\n",
    "from sklearn.linear_model import LinearRegression"
   ]
  },
  {
   "cell_type": "code",
   "execution_count": null,
   "id": "b9159c64-c120-4228-b5ce-c2eb26a00f97",
   "metadata": {},
   "outputs": [],
   "source": [
    "#Y=X+2\n",
    "X=np.array([2,3,4,5,6,7,8,9,10])\n",
    "Y=np.array([4,5,6,7,8,9,10,11,12])# continuous data\n",
    "X=X.reshape(-1,1)#2d\n",
    "Y=Y.reshape(-1,1)\n",
    "print(X)"
   ]
  },
  {
   "cell_type": "code",
   "execution_count": null,
   "id": "9b439479-3fc9-45c5-b4a5-c360df79a2d6",
   "metadata": {},
   "outputs": [],
   "source": [
    "plt.scatter(X,Y,marker='x',c='red',label=\"True\")\n",
    "plt.xlabel(\"input data\")\n",
    "plt.ylabel(\"output data\")\n",
    "plt.legend()\n",
    "plt.show()"
   ]
  },
  {
   "cell_type": "code",
   "execution_count": null,
   "id": "718b9aaf-a4ce-4305-9ed1-edf3e09161d3",
   "metadata": {},
   "outputs": [],
   "source": [
    "model_LR=LinearRegression()\n",
    "\n"
   ]
  },
  {
   "cell_type": "code",
   "execution_count": null,
   "id": "73afc486-0cab-4fff-a378-d3eafdbdb757",
   "metadata": {},
   "outputs": [],
   "source": [
    "model_LR.fit(X,Y)"
   ]
  },
  {
   "cell_type": "code",
   "execution_count": null,
   "id": "7cd0a97c-abee-4622-8695-8814cbe44a60",
   "metadata": {},
   "outputs": [],
   "source": [
    "print(model_LR.predict([[11]]))#data to be given in 2d\n",
    "test_x=np.array([2,3,4,5,6,7,8,9,10]).reshape(-1,1)\n",
    "pred_y=model_LR.predict(test_x)\n",
    "print(pred_y)"
   ]
  },
  {
   "cell_type": "code",
   "execution_count": null,
   "id": "9b66e0c2-3dc8-4a46-82ea-3cbd05f35a95",
   "metadata": {},
   "outputs": [],
   "source": [
    "plt.scatter(X,Y,marker='s',c='red',label=\"True\")\n",
    "plt.plot(test_x,pred_y,c='blue',label='predicted')\n",
    "plt.xlabel(\"input data\")\n",
    "plt.ylabel(\"output data\")\n",
    "plt.legend()\n",
    "plt.show()"
   ]
  },
  {
   "cell_type": "code",
   "execution_count": null,
   "id": "487d2db4-6773-4575-9152-54f96bb982c8",
   "metadata": {},
   "outputs": [],
   "source": [
    "#y=x**2+1\n",
    "X1=np.array([2,3,4,5,6,7,8,9,10])\n",
    "Y1=np.array([5,10,17,26,37,50,65,82,101])\n",
    "plt.scatter(X,Y,marker='s',c='black',label='dataset')\n",
    "plt.xlabel(\"input data\")\n",
    "plt.ylabel(\"output data\")\n",
    "plt.legend()\n",
    "plt.show()"
   ]
  },
  {
   "cell_type": "code",
   "execution_count": null,
   "id": "ed36d71e-1dbb-4246-8cfa-a9e611b0de21",
   "metadata": {},
   "outputs": [],
   "source": [
    "X1=X1.reshape(-1,1)\n",
    "Y1=Y1.reshape(-1,1)"
   ]
  },
  {
   "cell_type": "code",
   "execution_count": null,
   "id": "8eb0ea08-2d58-4cb5-937c-ce7ce0249a60",
   "metadata": {},
   "outputs": [],
   "source": [
    "model_LR.fit(X1,Y1)"
   ]
  },
  {
   "cell_type": "code",
   "execution_count": null,
   "id": "77eec618-cf72-41ed-806b-ddee33306556",
   "metadata": {},
   "outputs": [],
   "source": [
    "print(model_LR.predict([[11]]))#data to be given in 2d\n",
    "test_x=np.array([2,3,4,5,6,7,8,9,10]).reshape(-1,1)\n",
    "pred_y=model_LR.predict(test_x)\n",
    "print(pred_y)"
   ]
  },
  {
   "cell_type": "code",
   "execution_count": null,
   "id": "001cfa2b-e320-41fe-847a-45af0f84530c",
   "metadata": {},
   "outputs": [],
   "source": [
    "plt.scatter(X,Y,marker='s',c='red',label=\"True\")\n",
    "plt.plot(test_x,pred_y,c='blue',label='predicted')\n",
    "plt.xlabel(\"input data\")\n",
    "plt.ylabel(\"output data\")\n",
    "plt.legend()\n",
    "plt.show()"
   ]
  }
 ],
 "metadata": {
  "kernelspec": {
   "display_name": "Python 3 (ipykernel)",
   "language": "python",
   "name": "python3"
  },
  "language_info": {
   "codemirror_mode": {
    "name": "ipython",
    "version": 3
   },
   "file_extension": ".py",
   "mimetype": "text/x-python",
   "name": "python",
   "nbconvert_exporter": "python",
   "pygments_lexer": "ipython3",
   "version": "3.12.3"
  }
 },
 "nbformat": 4,
 "nbformat_minor": 5
}

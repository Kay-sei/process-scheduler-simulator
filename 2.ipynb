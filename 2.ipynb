{
 "cells": [
  {
   "cell_type": "code",
   "execution_count": null,
   "id": "34edb439-0f09-4944-96c1-a813111ededa",
   "metadata": {},
   "outputs": [],
   "source": [
    "import pandas as pd\n",
    "import numpy as np\n",
    "import matplotlib.pyplot as plt\n",
    "from sklearn.linear_model import LogisticRegression\n",
    "from sklearn.model_selection import train_test_split"
   ]
  },
  {
   "cell_type": "code",
   "execution_count": null,
   "id": "82a9455b-7224-48de-a5cf-6eb5c228aa9d",
   "metadata": {},
   "outputs": [],
   "source": [
    "df=pd.read_csv(\"Brain_Tumor.csv\")"
   ]
  },
  {
   "cell_type": "code",
   "execution_count": null,
   "id": "84b13a84-1f81-45af-b0b9-e917708162aa",
   "metadata": {},
   "outputs": [],
   "source": [
    "df"
   ]
  },
  {
   "cell_type": "code",
   "execution_count": null,
   "id": "16332d65-d7f9-4b41-a2b6-676d4e2bf710",
   "metadata": {},
   "outputs": [],
   "source": [
    "df.head(5)"
   ]
  },
  {
   "cell_type": "code",
   "execution_count": null,
   "id": "3542df6a-7ff3-4454-8e07-79965842b210",
   "metadata": {},
   "outputs": [],
   "source": [
    "df.tail(5)"
   ]
  },
  {
   "cell_type": "code",
   "execution_count": null,
   "id": "c0417993-331a-459a-b2b8-a4ae0d4468a4",
   "metadata": {},
   "outputs": [],
   "source": [
    "X=df['Tumor_Size']"
   ]
  },
  {
   "cell_type": "code",
   "execution_count": null,
   "id": "d0564f21-8f88-42aa-8ad9-dcb3c29124af",
   "metadata": {},
   "outputs": [],
   "source": [
    "X"
   ]
  },
  {
   "cell_type": "code",
   "execution_count": null,
   "id": "aa5738b6-00f1-482b-bf81-bb2242700279",
   "metadata": {},
   "outputs": [],
   "source": [
    "Y=df['Class']"
   ]
  },
  {
   "cell_type": "code",
   "execution_count": null,
   "id": "2d3525e0-a47b-46bc-be10-549b903332d7",
   "metadata": {},
   "outputs": [],
   "source": [
    "Y"
   ]
  },
  {
   "cell_type": "code",
   "execution_count": null,
   "id": "6e0aadf3-43be-4368-a743-85a2577c1b88",
   "metadata": {},
   "outputs": [],
   "source": [
    "X=np.array(X).reshape(-1,1)\n",
    "Y=np.array(Y).reshape(-1,1)"
   ]
  },
  {
   "cell_type": "code",
   "execution_count": null,
   "id": "cad303d9-b673-4423-993c-cde0235f4823",
   "metadata": {},
   "outputs": [],
   "source": [
    "'''\n",
    "Using sklearn split the dataset\n",
    "'''\n",
    "X_train,X_test,Y_train,Y_test=train_test_split(X,Y,test_size=0.2)"
   ]
  },
  {
   "cell_type": "code",
   "execution_count": null,
   "id": "517a4c13-78e8-45b2-8e30-8eabeac34974",
   "metadata": {},
   "outputs": [],
   "source": [
    "'''\n",
    "Manually Splitting the Dataset\n",
    "For Training and Testing we have breaked the Dataset of 545 columns into 80:20 parts as Training 80 parts and Testing 20 parts\n",
    "X_train=X[0:435]\n",
    "Y_train=Y[0:435]\n",
    "X_test=X[435:]\n",
    "Y_test=Y[435:]\n",
    "'''"
   ]
  },
  {
   "cell_type": "code",
   "execution_count": null,
   "id": "5cff425e-0ab1-4bd7-86be-762ae0222443",
   "metadata": {},
   "outputs": [],
   "source": [
    "Sizetrain=len(X_train)\n",
    "Sizetest=len(X_test)\n",
    "print(\"Size of Training Data:\",Sizetrain)\n",
    "print(\"Size of Testing Data:\",Sizetest)"
   ]
  },
  {
   "cell_type": "code",
   "execution_count": null,
   "id": "9ef2ff39-db66-4f44-a9da-9c6d1a733f82",
   "metadata": {},
   "outputs": [],
   "source": [
    "X"
   ]
  },
  {
   "cell_type": "code",
   "execution_count": null,
   "id": "394c80d3-fe3b-4317-88bd-adaf1395c4e2",
   "metadata": {},
   "outputs": [],
   "source": [
    "Y"
   ]
  },
  {
   "cell_type": "code",
   "execution_count": null,
   "id": "8ba15e0d-48cd-4ff3-ba7d-119fd3b72a00",
   "metadata": {},
   "outputs": [],
   "source": [
    "plt.scatter(X_train,Y_train,marker=\"o\",c='r',label=\"Table\")\n",
    "plt.xlabel('Size')\n",
    "plt.ylabel('Class')\n",
    "plt.title('Brain Tumor')\n",
    "plt.show()"
   ]
  },
  {
   "cell_type": "code",
   "execution_count": null,
   "id": "b94fea50-909f-4cab-b25f-95b158a1c988",
   "metadata": {},
   "outputs": [],
   "source": [
    "#Logistic Regression Model\n",
    "model_LogR=LogisticRegression()"
   ]
  },
  {
   "cell_type": "code",
   "execution_count": null,
   "id": "8d9f3347-af3b-4f60-ad4c-9b008f1d53e1",
   "metadata": {},
   "outputs": [],
   "source": [
    "model_LogR.fit(X,Y)"
   ]
  },
  {
   "cell_type": "code",
   "execution_count": null,
   "id": "55d2d520-011f-4bab-9240-58dc6d770eeb",
   "metadata": {},
   "outputs": [],
   "source": [
    "model_LogR.predict([[2500]])"
   ]
  },
  {
   "cell_type": "code",
   "execution_count": null,
   "id": "093aea2c-abfe-4284-a48c-e024534c1f8b",
   "metadata": {},
   "outputs": [],
   "source": [
    "Y_pred=model_LR.predict(X_test)"
   ]
  },
  {
   "cell_type": "code",
   "execution_count": null,
   "id": "ed78df92-b945-4c14-bffd-3a0013522f84",
   "metadata": {},
   "outputs": [],
   "source": [
    "Y_pred"
   ]
  },
  {
   "cell_type": "code",
   "execution_count": null,
   "id": "186fbf00-938d-4363-bd74-121bb647c8d3",
   "metadata": {},
   "outputs": [],
   "source": [
    "len(Y_pred)"
   ]
  },
  {
   "cell_type": "code",
   "execution_count": null,
   "id": "e3365df0-a3d5-4612-b523-0ed8ee46ca32",
   "metadata": {},
   "outputs": [],
   "source": [
    "plt.scatter(X_train,Y_train,c='r',label='True')\n",
    "plt.plot(X_test,Y_pred,c='b',label='predicted')\n",
    "plt.legend()\n",
    "plt.xlabel('area')\n",
    "plt.ylabel('price')\n",
    "plt.show()"
   ]
  },
  {
   "cell_type": "code",
   "execution_count": null,
   "id": "806a7ef8-2fd2-4f8f-b203-fe5089c3eb5b",
   "metadata": {},
   "outputs": [],
   "source": [
    "from sklearn.metrics import confusion_matrix,classification_report,accuracy_score"
   ]
  },
  {
   "cell_type": "code",
   "execution_count": null,
   "id": "2ec5fddc-3512-448f-8e08-a51bf9a7314e",
   "metadata": {},
   "outputs": [],
   "source": [
    "cm=confusion_matrix(Y_pred,Y_test)"
   ]
  },
  {
   "cell_type": "code",
   "execution_count": null,
   "id": "485440ac-127f-415c-be52-bee59b786d2e",
   "metadata": {},
   "outputs": [],
   "source": [
    "cm"
   ]
  },
  {
   "cell_type": "code",
   "execution_count": null,
   "id": "e88f7773-c84f-430a-8519-d380298b064a",
   "metadata": {},
   "outputs": [],
   "source": [
    "cr=classification_report(Y_pred,Y_test)"
   ]
  },
  {
   "cell_type": "code",
   "execution_count": null,
   "id": "7e17f277-1ed5-4d2f-8c40-21863a0b3194",
   "metadata": {},
   "outputs": [],
   "source": [
    "print(cr)"
   ]
  },
  {
   "cell_type": "code",
   "execution_count": null,
   "id": "07ceb26e-9d90-41a3-b2b5-a972e0b1c1bb",
   "metadata": {},
   "outputs": [],
   "source": [
    "acc=accuracy_score(Y_pred,Y_test)"
   ]
  },
  {
   "cell_type": "code",
   "execution_count": null,
   "id": "abe3831e-04f6-4601-bebf-55f688d73bd6",
   "metadata": {},
   "outputs": [],
   "source": [
    "acc"
   ]
  },
  {
   "cell_type": "code",
   "execution_count": null,
   "id": "98d2d39c-ae1d-4ed0-92eb-8415c52c2a4c",
   "metadata": {},
   "outputs": [],
   "source": [
    "import seaborn as sns"
   ]
  },
  {
   "cell_type": "code",
   "execution_count": null,
   "id": "4afd92c7-04dd-4b7e-bfda-b8d1c9cd711d",
   "metadata": {},
   "outputs": [],
   "source": [
    "sns.heatmap(cm,cmap=\"PuRd\",annot=True,fmt='d',xticklabels=[0,1],yticklabels=[0,1])\n",
    "plt.xlabel('Actual')\n",
    "plt.ylabel('Predicted')\n",
    "plt.title('Logistic Regression Model Confusion Matrix')\n",
    "plt.show()"
   ]
  },
  {
   "cell_type": "code",
   "execution_count": null,
   "id": "1f9f4bad-c84b-45b5-8a4f-c2ec41f229f9",
   "metadata": {},
   "outputs": [],
   "source": []
  }
 ],
 "metadata": {
  "kernelspec": {
   "display_name": "Python 3",
   "language": "python",
   "name": "python3"
  },
  "language_info": {
   "codemirror_mode": {
    "name": "ipython",
    "version": 3
   },
   "file_extension": ".py",
   "mimetype": "text/x-python",
   "name": "python",
   "nbconvert_exporter": "python",
   "pygments_lexer": "ipython3",
   "version": "3.12.3"
  }
 },
 "nbformat": 4,
 "nbformat_minor": 5
}
